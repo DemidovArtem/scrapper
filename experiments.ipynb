{
 "cells": [
  {
   "cell_type": "code",
   "execution_count": 60,
   "outputs": [],
   "source": [
    "import requests\n",
    "from bs4 import BeautifulSoup\n",
    "import pandas as pd"
   ],
   "metadata": {
    "collapsed": false
   }
  },
  {
   "cell_type": "code",
   "execution_count": null,
   "metadata": {
    "collapsed": true,
    "pycharm": {
     "is_executing": true
    }
   },
   "outputs": [
    {
     "name": "stdout",
     "output_type": "stream",
     "text": [
      "Current page: 91\r"
     ]
    }
   ],
   "source": [
    "job_title = 'Business Analyst'\n",
    "\n",
    "locations = ['Nairobi', 'Bomet']\n",
    "\n",
    "first_site = 'https://www.myjobmag.co.ke/search/jobs/'\n",
    "parameters = {\n",
    "    'q': job_title,\n",
    "    'location': '--'.join(locations)\n",
    "}\n",
    "link_template = 'https://www.myjobmag.co.ke/'\n",
    "\n",
    "currentPage = 1\n",
    "records = []\n",
    "\n",
    "\n",
    "def add_records(tags, records):\n",
    "    added_job = False\n",
    "    for elem in tags:\n",
    "        attrs = elem.attrs\n",
    "        if 'href' not in attrs:\n",
    "            continue\n",
    "        href = attrs['href']\n",
    "        if '/job/' in href:\n",
    "            records.append({\n",
    "                'title': elem.text,\n",
    "                'link': f'{link_template}{href}'\n",
    "            })\n",
    "            added_job = True\n",
    "    return added_job\n",
    "\n",
    "\n",
    "while True:\n",
    "    print(f'Current page: {currentPage}', end='\\r')\n",
    "    page = requests.get(\n",
    "        url=first_site,\n",
    "        params=parameters\n",
    "    )\n",
    "\n",
    "    soup = BeautifulSoup(page.content, 'html.parser')\n",
    "    added_job = add_records(soup.find_all('a', recursive=True), records)\n",
    "    if not added_job:\n",
    "        break\n",
    "    currentPage += 1\n",
    "    parameters['currentPage'] = currentPage\n",
    "jobs_table = pd.DataFrame.from_records(records)\n",
    "jobs_table.to_csv('myjobmag_jobs.csv')\n"
   ]
  }
 ],
 "metadata": {
  "kernelspec": {
   "display_name": "Python 3",
   "language": "python",
   "name": "python3"
  },
  "language_info": {
   "codemirror_mode": {
    "name": "ipython",
    "version": 2
   },
   "file_extension": ".py",
   "mimetype": "text/x-python",
   "name": "python",
   "nbconvert_exporter": "python",
   "pygments_lexer": "ipython2",
   "version": "2.7.6"
  }
 },
 "nbformat": 4,
 "nbformat_minor": 0
}
